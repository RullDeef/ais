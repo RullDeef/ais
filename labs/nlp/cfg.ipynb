{
 "cells": [
  {
   "cell_type": "code",
   "execution_count": 1,
   "metadata": {},
   "outputs": [
    {
     "data": {
      "text/plain": [
       "<nltk.parse.chart.ChartParser at 0x7f4a206e3f10>"
      ]
     },
     "execution_count": 1,
     "metadata": {},
     "output_type": "execute_result"
    }
   ],
   "source": [
    "from nltk.grammar import CFG\n",
    "from nltk.parse import ChartParser\n",
    "\n",
    "grammar = CFG.fromstring(f\"\"\"\n",
    "    # грамматика запроса\n",
    "    S -> QG | PR\n",
    "    \n",
    "    # общие вопросы\n",
    "    QG -> QG1 | QG2 | QG3 | QG4\n",
    "    \n",
    "    # запросты-предпочтения\n",
    "    PR -> PR1\n",
    "    \n",
    "    # Общий вопрос №1 -----------------------------------------------\n",
    "    # вопрос про количество аниме в базе\n",
    "    QG1 -> HowMany 'чего' 'есть' OptionalQuestionMark\n",
    "    QG1 -> HowMany AnimeNounSP OptionalQuestionMark\n",
    "    QG1 -> HowMany AnimeNounSP ContainsIn Database OptionalQuestionMark\n",
    "    \n",
    "    # фраза, означающая вопросительное \"сколько?\"\n",
    "    HowMany -> 'сколько' | 'много' | 'много' 'ли'\n",
    "    \n",
    "    # фраза, означающая одно или несколько аниме\n",
    "    AnimeNounSP -> AnimeNounS | AnimeNounP\n",
    "    AnimeNounS -> 'аниме' | 'аниме' 'фильм' | 'аниме' 'сериал'\n",
    "    AnimeNounP -> 'аниме' 'фильмы' | 'аниме' 'сериалы'\n",
    "    \n",
    "    # фраза, означающая содержание чего-то в чем-то\n",
    "    ContainsIn -> Contains | Contains 'в' | 'в'\n",
    "    Contains -> 'храниться' | 'содержаться' | 'находиться' | 'представить'\n",
    "    \n",
    "    # База данных\n",
    "    Database -> 'база' | 'база' 'данные' | 'хранилище' | 'память'\n",
    "\n",
    "    # Общий вопрос №2 -----------------------------------------------\n",
    "    # вопрос про количество жанров в базе\n",
    "    QG2 -> HowMany GenreNoun OptionalQuestionMark\n",
    "    QG2 -> HowMany GenreNoun ContainsIn Database OptionalQuestionMark\n",
    "    QG2 -> 'какой' GenreNoun ContainsIn Database OptionalQuestionMark\n",
    "    \n",
    "    GenreNoun -> 'жанр' | 'жанры'\n",
    "    \n",
    "    # Общий вопрос №3 -----------------------------------------------\n",
    "    # вопрос про смысл конкретного жанра\n",
    "    QG3 -> ConcreteGenre Is What OptionalQuestionMark\n",
    "    QG3 -> 'что' 'представлять' 'жанр' ConcreteGenre OptionalQuestionMark\n",
    "    \n",
    "    Is -> '-' | 'это' | '-' 'это'\n",
    "    What -> 'что' | 'что' 'такой' | 'ху'\n",
    "    \n",
    "    # продукции для определения конкретных жанров\n",
    "    ConcreteGenre -> '#GENRE#'\n",
    "    \n",
    "    # Общий вопрос №4 -----------------------------------------------\n",
    "    # получение информации по конкретному аниме\n",
    "    QG4 -> What CanTell About ConcreteAnime OptionalQuestionMark\n",
    "    \n",
    "    CanTell -> 'мочь' 'рассказать'\n",
    "    About -> 'о' | 'обо' | 'про' |\n",
    "    ConcreteAnime -> '#ANIME#' | AnimeNounS '#ANIME#'\n",
    "    \n",
    "    # Запрос-предпочтения №1 ----------------------------------------\n",
    "    # нравятся жанры\n",
    "    PR1 -> ILike ConcreteGenreP\n",
    "    \n",
    "    ILike -> 'я' Like | Like\n",
    "    Like -> 'любить' | 'нравиться'\n",
    "    \n",
    "    ConcreteGenreP -> ConcreteGenre | ConcreteGenre ConcreteGenreP\n",
    "    ConcreteGenreP -> ConcreteGenre 'и' ConcreteGenreP\n",
    "    ConcreteGenreP -> ConcreteGenre ',' ConcreteGenreP\n",
    "\n",
    "    # опциональный вопросительный знак\n",
    "    OptionalQuestionMark -> '?' |\n",
    "\"\"\")\n",
    "\n",
    "parser = ChartParser(grammar)\n",
    "parser"
   ]
  },
  {
   "cell_type": "code",
   "execution_count": 2,
   "metadata": {},
   "outputs": [],
   "source": [
    "from nltk.corpus import stopwords\n",
    "from nltk.tokenize import word_tokenize\n",
    "from morph import morph\n",
    "from genreproc import is_genre\n",
    "from animeapi import ApiServer, AnimeService\n",
    "from nltk.util import ngrams\n",
    "\n",
    "keep_stopwords = ('чего', 'что', 'есть', 'много', 'не')\n",
    "stopwords = list(filter(lambda w: w not in keep_stopwords, stopwords.words('russian')))\n",
    "\n",
    "stopwords += ['также']\n",
    "\n",
    "api_server = ApiServer('localhost', '8080')\n",
    "anime_service = AnimeService(api_server)\n",
    "\n",
    "def extract_anime_names(tokens: list[str]) -> list:\n",
    "    if 'аниме' not in tokens:\n",
    "        return []\n",
    "    animes = []\n",
    "    for k in (3, 2, 1):\n",
    "        for i, ngram in enumerate(ngrams(tokens, k)):\n",
    "            if 'аниме' in ngram:\n",
    "                continue\n",
    "            name = ' '.join(ngram)\n",
    "            anime = anime_service.find_anime_exact(name)\n",
    "            if anime is not None:\n",
    "                tokens[i:i+k] = ['#ANIME#']\n",
    "                animes.append(((i, k), name, anime))\n",
    "    if len(animes) > 0:\n",
    "        print('replaced animes:', animes)\n",
    "    return animes\n",
    "\n",
    "def extract_genres(tokens: list[str]) -> list:\n",
    "    replaced_genres = []\n",
    "    for i, t in enumerate(tokens):\n",
    "        prob, gen = is_genre(t)\n",
    "        print(prob, gen, t)\n",
    "        if prob > 0.7:\n",
    "            print('found genre:', t, gen, prob)\n",
    "            tokens[i] = '#GENRE#'\n",
    "            replaced_genres.append((i, prob, t, gen))\n",
    "    if len(replaced_genres) > 0:\n",
    "        print('replaced genres:', replaced_genres)\n",
    "    return replaced_genres\n",
    "\n",
    "def parse_sentense(sentence: str):\n",
    "    print('input:', sentence)\n",
    "    tokens = word_tokenize(sentence)\n",
    "    print('tokens:', tokens)\n",
    "    tokens = list(filter(lambda w: w not in stopwords, tokens))\n",
    "    print('filtered tokens:', tokens)\n",
    "    replaced_animes = extract_anime_names(tokens)\n",
    "    replaced_genres = extract_genres(tokens)\n",
    "    stems = [[t] if '#' in t else morph.normal_forms(t) for t in tokens ]\n",
    "    print('all stems:', stems)\n",
    "    stems = [s[0] for s in stems]\n",
    "    print('selected stems:', stems)\n",
    "    return parser.parse_one(stems)"
   ]
  },
  {
   "cell_type": "code",
   "execution_count": 25,
   "metadata": {},
   "outputs": [
    {
     "name": "stdout",
     "output_type": "stream",
     "text": [
      "input: сколько аниме фильмов хранится в базе?\n",
      "tokens: ['сколько', 'аниме', 'фильмов', 'хранится', 'в', 'базе', '?']\n",
      "filtered tokens: ['сколько', 'аниме', 'фильмов', 'хранится', 'базе', '?']\n",
      "all stems: [['сколько'], ['аниме'], ['фильм'], ['храниться'], ['база', 'баз'], ['?']]\n",
      "selected stems: ['сколько', 'аниме', 'фильм', 'храниться', 'база', '?']\n"
     ]
    },
    {
     "data": {
      "image/svg+xml": [
       "<svg baseProfile=\"full\" height=\"264px\" preserveAspectRatio=\"xMidYMid meet\" style=\"font-family: times, serif; font-weight: normal; font-style: normal; font-size: 16px;\" version=\"1.1\" viewBox=\"0,0,536.0,264.0\" width=\"536px\" xmlns=\"http://www.w3.org/2000/svg\" xmlns:ev=\"http://www.w3.org/2001/xml-events\" xmlns:xlink=\"http://www.w3.org/1999/xlink\"><defs /><svg width=\"100%\" x=\"0\" y=\"0px\"><defs /><text text-anchor=\"middle\" x=\"50%\" y=\"16px\">S</text></svg><svg width=\"100%\" x=\"0%\" y=\"48px\"><defs /><svg width=\"100%\" x=\"0\" y=\"0px\"><defs /><text text-anchor=\"middle\" x=\"50%\" y=\"16px\">QG</text></svg><svg width=\"100%\" x=\"0%\" y=\"48px\"><defs /><svg width=\"100%\" x=\"0\" y=\"0px\"><defs /><text text-anchor=\"middle\" x=\"50%\" y=\"16px\">QG1</text></svg><svg width=\"13.4328%\" x=\"0%\" y=\"48px\"><defs /><svg width=\"100%\" x=\"0\" y=\"0px\"><defs /><text text-anchor=\"middle\" x=\"50%\" y=\"16px\">HowMany</text></svg><svg width=\"100%\" x=\"0%\" y=\"48px\"><defs /><svg width=\"100%\" x=\"0\" y=\"0px\"><defs /><text text-anchor=\"middle\" x=\"50%\" y=\"16px\">сколько</text></svg></svg><line stroke=\"black\" x1=\"50%\" x2=\"50%\" y1=\"19.2px\" y2=\"48px\" /></svg><line stroke=\"black\" x1=\"50%\" x2=\"6.71642%\" y1=\"19.2px\" y2=\"48px\" /><svg width=\"20.8955%\" x=\"13.4328%\" y=\"48px\"><defs /><svg width=\"100%\" x=\"0\" y=\"0px\"><defs /><text text-anchor=\"middle\" x=\"50%\" y=\"16px\">AnimeNounSP</text></svg><svg width=\"100%\" x=\"0%\" y=\"48px\"><defs /><svg width=\"100%\" x=\"0\" y=\"0px\"><defs /><text text-anchor=\"middle\" x=\"50%\" y=\"16px\">AnimeNounS</text></svg><svg width=\"50%\" x=\"0%\" y=\"48px\"><defs /><svg width=\"100%\" x=\"0\" y=\"0px\"><defs /><text text-anchor=\"middle\" x=\"50%\" y=\"16px\">аниме</text></svg></svg><line stroke=\"black\" x1=\"50%\" x2=\"25%\" y1=\"19.2px\" y2=\"48px\" /><svg width=\"50%\" x=\"50%\" y=\"48px\"><defs /><svg width=\"100%\" x=\"0\" y=\"0px\"><defs /><text text-anchor=\"middle\" x=\"50%\" y=\"16px\">фильм</text></svg></svg><line stroke=\"black\" x1=\"50%\" x2=\"75%\" y1=\"19.2px\" y2=\"48px\" /></svg><line stroke=\"black\" x1=\"50%\" x2=\"50%\" y1=\"19.2px\" y2=\"48px\" /></svg><line stroke=\"black\" x1=\"50%\" x2=\"23.8806%\" y1=\"19.2px\" y2=\"48px\" /><svg width=\"17.9104%\" x=\"34.3284%\" y=\"48px\"><defs /><svg width=\"100%\" x=\"0\" y=\"0px\"><defs /><text text-anchor=\"middle\" x=\"50%\" y=\"16px\">ContainsIn</text></svg><svg width=\"100%\" x=\"0%\" y=\"48px\"><defs /><svg width=\"100%\" x=\"0\" y=\"0px\"><defs /><text text-anchor=\"middle\" x=\"50%\" y=\"16px\">Contains</text></svg><svg width=\"100%\" x=\"0%\" y=\"48px\"><defs /><svg width=\"100%\" x=\"0\" y=\"0px\"><defs /><text text-anchor=\"middle\" x=\"50%\" y=\"16px\">храниться</text></svg></svg><line stroke=\"black\" x1=\"50%\" x2=\"50%\" y1=\"19.2px\" y2=\"48px\" /></svg><line stroke=\"black\" x1=\"50%\" x2=\"50%\" y1=\"19.2px\" y2=\"48px\" /></svg><line stroke=\"black\" x1=\"50%\" x2=\"43.2836%\" y1=\"19.2px\" y2=\"48px\" /><svg width=\"14.9254%\" x=\"52.2388%\" y=\"48px\"><defs /><svg width=\"100%\" x=\"0\" y=\"0px\"><defs /><text text-anchor=\"middle\" x=\"50%\" y=\"16px\">Database</text></svg><svg width=\"100%\" x=\"0%\" y=\"48px\"><defs /><svg width=\"100%\" x=\"0\" y=\"0px\"><defs /><text text-anchor=\"middle\" x=\"50%\" y=\"16px\">база</text></svg></svg><line stroke=\"black\" x1=\"50%\" x2=\"50%\" y1=\"19.2px\" y2=\"48px\" /></svg><line stroke=\"black\" x1=\"50%\" x2=\"59.7015%\" y1=\"19.2px\" y2=\"48px\" /><svg width=\"32.8358%\" x=\"67.1642%\" y=\"48px\"><defs /><svg width=\"100%\" x=\"0\" y=\"0px\"><defs /><text text-anchor=\"middle\" x=\"50%\" y=\"16px\">OptionalQuestionMark</text></svg><svg width=\"100%\" x=\"0%\" y=\"48px\"><defs /><svg width=\"100%\" x=\"0\" y=\"0px\"><defs /><text text-anchor=\"middle\" x=\"50%\" y=\"16px\">?</text></svg></svg><line stroke=\"black\" x1=\"50%\" x2=\"50%\" y1=\"19.2px\" y2=\"48px\" /></svg><line stroke=\"black\" x1=\"50%\" x2=\"83.5821%\" y1=\"19.2px\" y2=\"48px\" /></svg><line stroke=\"black\" x1=\"50%\" x2=\"50%\" y1=\"19.2px\" y2=\"48px\" /></svg><line stroke=\"black\" x1=\"50%\" x2=\"50%\" y1=\"19.2px\" y2=\"48px\" /></svg>"
      ],
      "text/plain": [
       "Tree('S', [Tree('QG', [Tree('QG1', [Tree('HowMany', ['сколько']), Tree('AnimeNounSP', [Tree('AnimeNounS', ['аниме', 'фильм'])]), Tree('ContainsIn', [Tree('Contains', ['храниться'])]), Tree('Database', ['база']), Tree('OptionalQuestionMark', ['?'])])])])"
      ]
     },
     "execution_count": 25,
     "metadata": {},
     "output_type": "execute_result"
    }
   ],
   "source": [
    "parse_sentense(\"сколько аниме фильмов хранится в базе?\")"
   ]
  },
  {
   "cell_type": "code",
   "execution_count": 17,
   "metadata": {},
   "outputs": [
    {
     "name": "stdout",
     "output_type": "stream",
     "text": [
      "input: какие жанры представлены в базе данных\n",
      "tokens: ['какие', 'жанры', 'представлены', 'в', 'базе', 'данных']\n",
      "filtered tokens: ['какие', 'жанры', 'представлены', 'базе', 'данных']\n",
      "all stems: [['какой'], ['жанр'], ['представить'], ['база', 'баз'], ['данные', 'дать', 'данный']]\n",
      "selected stems: ['какой', 'жанр', 'представить', 'база', 'данные']\n"
     ]
    },
    {
     "data": {
      "image/svg+xml": [
       "<svg baseProfile=\"full\" height=\"264px\" preserveAspectRatio=\"xMidYMid meet\" style=\"font-family: times, serif; font-weight: normal; font-style: normal; font-size: 16px;\" version=\"1.1\" viewBox=\"0,0,536.0,264.0\" width=\"536px\" xmlns=\"http://www.w3.org/2000/svg\" xmlns:ev=\"http://www.w3.org/2001/xml-events\" xmlns:xlink=\"http://www.w3.org/1999/xlink\"><defs /><svg width=\"100%\" x=\"0\" y=\"0px\"><defs /><text text-anchor=\"middle\" x=\"50%\" y=\"16px\">S</text></svg><svg width=\"100%\" x=\"0%\" y=\"48px\"><defs /><svg width=\"100%\" x=\"0\" y=\"0px\"><defs /><text text-anchor=\"middle\" x=\"50%\" y=\"16px\">QG</text></svg><svg width=\"100%\" x=\"0%\" y=\"48px\"><defs /><svg width=\"100%\" x=\"0\" y=\"0px\"><defs /><text text-anchor=\"middle\" x=\"50%\" y=\"16px\">QG2</text></svg><svg width=\"10.4478%\" x=\"0%\" y=\"48px\"><defs /><svg width=\"100%\" x=\"0\" y=\"0px\"><defs /><text text-anchor=\"middle\" x=\"50%\" y=\"16px\">какой</text></svg></svg><line stroke=\"black\" x1=\"50%\" x2=\"5.22388%\" y1=\"19.2px\" y2=\"48px\" /><svg width=\"16.4179%\" x=\"10.4478%\" y=\"48px\"><defs /><svg width=\"100%\" x=\"0\" y=\"0px\"><defs /><text text-anchor=\"middle\" x=\"50%\" y=\"16px\">GenreNoun</text></svg><svg width=\"100%\" x=\"0%\" y=\"48px\"><defs /><svg width=\"100%\" x=\"0\" y=\"0px\"><defs /><text text-anchor=\"middle\" x=\"50%\" y=\"16px\">жанр</text></svg></svg><line stroke=\"black\" x1=\"50%\" x2=\"50%\" y1=\"19.2px\" y2=\"48px\" /></svg><line stroke=\"black\" x1=\"50%\" x2=\"18.6567%\" y1=\"19.2px\" y2=\"48px\" /><svg width=\"19.403%\" x=\"26.8657%\" y=\"48px\"><defs /><svg width=\"100%\" x=\"0\" y=\"0px\"><defs /><text text-anchor=\"middle\" x=\"50%\" y=\"16px\">ContainsIn</text></svg><svg width=\"100%\" x=\"0%\" y=\"48px\"><defs /><svg width=\"100%\" x=\"0\" y=\"0px\"><defs /><text text-anchor=\"middle\" x=\"50%\" y=\"16px\">Contains</text></svg><svg width=\"100%\" x=\"0%\" y=\"48px\"><defs /><svg width=\"100%\" x=\"0\" y=\"0px\"><defs /><text text-anchor=\"middle\" x=\"50%\" y=\"16px\">представить</text></svg></svg><line stroke=\"black\" x1=\"50%\" x2=\"50%\" y1=\"19.2px\" y2=\"48px\" /></svg><line stroke=\"black\" x1=\"50%\" x2=\"50%\" y1=\"19.2px\" y2=\"48px\" /></svg><line stroke=\"black\" x1=\"50%\" x2=\"36.5672%\" y1=\"19.2px\" y2=\"48px\" /><svg width=\"20.8955%\" x=\"46.2687%\" y=\"48px\"><defs /><svg width=\"100%\" x=\"0\" y=\"0px\"><defs /><text text-anchor=\"middle\" x=\"50%\" y=\"16px\">Database</text></svg><svg width=\"42.8571%\" x=\"0%\" y=\"48px\"><defs /><svg width=\"100%\" x=\"0\" y=\"0px\"><defs /><text text-anchor=\"middle\" x=\"50%\" y=\"16px\">база</text></svg></svg><line stroke=\"black\" x1=\"50%\" x2=\"21.4286%\" y1=\"19.2px\" y2=\"48px\" /><svg width=\"57.1429%\" x=\"42.8571%\" y=\"48px\"><defs /><svg width=\"100%\" x=\"0\" y=\"0px\"><defs /><text text-anchor=\"middle\" x=\"50%\" y=\"16px\">данные</text></svg></svg><line stroke=\"black\" x1=\"50%\" x2=\"71.4286%\" y1=\"19.2px\" y2=\"48px\" /></svg><line stroke=\"black\" x1=\"50%\" x2=\"56.7164%\" y1=\"19.2px\" y2=\"48px\" /><svg width=\"32.8358%\" x=\"67.1642%\" y=\"48px\"><defs /><svg width=\"100%\" x=\"0\" y=\"0px\"><defs /><text text-anchor=\"middle\" x=\"50%\" y=\"16px\">OptionalQuestionMark</text></svg></svg><line stroke=\"black\" x1=\"50%\" x2=\"83.5821%\" y1=\"19.2px\" y2=\"48px\" /></svg><line stroke=\"black\" x1=\"50%\" x2=\"50%\" y1=\"19.2px\" y2=\"48px\" /></svg><line stroke=\"black\" x1=\"50%\" x2=\"50%\" y1=\"19.2px\" y2=\"48px\" /></svg>"
      ],
      "text/plain": [
       "Tree('S', [Tree('QG', [Tree('QG2', ['какой', Tree('GenreNoun', ['жанр']), Tree('ContainsIn', [Tree('Contains', ['представить'])]), Tree('Database', ['база', 'данные']), Tree('OptionalQuestionMark', [])])])])"
      ]
     },
     "execution_count": 17,
     "metadata": {},
     "output_type": "execute_result"
    }
   ],
   "source": [
    "parse_sentense(\"какие жанры представлены в базе данных\")"
   ]
  },
  {
   "cell_type": "code",
   "execution_count": 18,
   "metadata": {},
   "outputs": [
    {
     "name": "stdout",
     "output_type": "stream",
     "text": [
      "input: драма - это что такое?\n",
      "tokens: ['драма', '-', 'это', 'что', 'такое', '?']\n",
      "filtered tokens: ['драма', '-', 'это', 'что', 'такое', '?']\n",
      "found genre: драма Drama 1.0\n",
      "replaced genres: [(0, 1.0, 'драма', 'Drama')]\n",
      "all stems: [['#GENRE#'], ['-'], ['это', 'этот'], ['что'], ['такой'], ['?']]\n",
      "selected stems: ['#GENRE#', '-', 'это', 'что', 'такой', '?']\n"
     ]
    },
    {
     "data": {
      "image/svg+xml": [
       "<svg baseProfile=\"full\" height=\"216px\" preserveAspectRatio=\"xMidYMid meet\" style=\"font-family: times, serif; font-weight: normal; font-style: normal; font-size: 16px;\" version=\"1.1\" viewBox=\"0,0,456.0,216.0\" width=\"456px\" xmlns=\"http://www.w3.org/2000/svg\" xmlns:ev=\"http://www.w3.org/2001/xml-events\" xmlns:xlink=\"http://www.w3.org/1999/xlink\"><defs /><svg width=\"100%\" x=\"0\" y=\"0px\"><defs /><text text-anchor=\"middle\" x=\"50%\" y=\"16px\">S</text></svg><svg width=\"100%\" x=\"0%\" y=\"48px\"><defs /><svg width=\"100%\" x=\"0\" y=\"0px\"><defs /><text text-anchor=\"middle\" x=\"50%\" y=\"16px\">QG</text></svg><svg width=\"100%\" x=\"0%\" y=\"48px\"><defs /><svg width=\"100%\" x=\"0\" y=\"0px\"><defs /><text text-anchor=\"middle\" x=\"50%\" y=\"16px\">QG3</text></svg><svg width=\"26.3158%\" x=\"0%\" y=\"48px\"><defs /><svg width=\"100%\" x=\"0\" y=\"0px\"><defs /><text text-anchor=\"middle\" x=\"50%\" y=\"16px\">ConcreteGenre</text></svg><svg width=\"100%\" x=\"0%\" y=\"48px\"><defs /><svg width=\"100%\" x=\"0\" y=\"0px\"><defs /><text text-anchor=\"middle\" x=\"50%\" y=\"16px\">#GENRE#</text></svg></svg><line stroke=\"black\" x1=\"50%\" x2=\"50%\" y1=\"19.2px\" y2=\"48px\" /></svg><line stroke=\"black\" x1=\"50%\" x2=\"13.1579%\" y1=\"19.2px\" y2=\"48px\" /><svg width=\"14.0351%\" x=\"26.3158%\" y=\"48px\"><defs /><svg width=\"100%\" x=\"0\" y=\"0px\"><defs /><text text-anchor=\"middle\" x=\"50%\" y=\"16px\">Is</text></svg><svg width=\"37.5%\" x=\"0%\" y=\"48px\"><defs /><svg width=\"100%\" x=\"0\" y=\"0px\"><defs /><text text-anchor=\"middle\" x=\"50%\" y=\"16px\">-</text></svg></svg><line stroke=\"black\" x1=\"50%\" x2=\"18.75%\" y1=\"19.2px\" y2=\"48px\" /><svg width=\"62.5%\" x=\"37.5%\" y=\"48px\"><defs /><svg width=\"100%\" x=\"0\" y=\"0px\"><defs /><text text-anchor=\"middle\" x=\"50%\" y=\"16px\">это</text></svg></svg><line stroke=\"black\" x1=\"50%\" x2=\"68.75%\" y1=\"19.2px\" y2=\"48px\" /></svg><line stroke=\"black\" x1=\"50%\" x2=\"33.3333%\" y1=\"19.2px\" y2=\"48px\" /><svg width=\"21.0526%\" x=\"40.3509%\" y=\"48px\"><defs /><svg width=\"100%\" x=\"0\" y=\"0px\"><defs /><text text-anchor=\"middle\" x=\"50%\" y=\"16px\">What</text></svg><svg width=\"41.6667%\" x=\"0%\" y=\"48px\"><defs /><svg width=\"100%\" x=\"0\" y=\"0px\"><defs /><text text-anchor=\"middle\" x=\"50%\" y=\"16px\">что</text></svg></svg><line stroke=\"black\" x1=\"50%\" x2=\"20.8333%\" y1=\"19.2px\" y2=\"48px\" /><svg width=\"58.3333%\" x=\"41.6667%\" y=\"48px\"><defs /><svg width=\"100%\" x=\"0\" y=\"0px\"><defs /><text text-anchor=\"middle\" x=\"50%\" y=\"16px\">такой</text></svg></svg><line stroke=\"black\" x1=\"50%\" x2=\"70.8333%\" y1=\"19.2px\" y2=\"48px\" /></svg><line stroke=\"black\" x1=\"50%\" x2=\"50.8772%\" y1=\"19.2px\" y2=\"48px\" /><svg width=\"38.5965%\" x=\"61.4035%\" y=\"48px\"><defs /><svg width=\"100%\" x=\"0\" y=\"0px\"><defs /><text text-anchor=\"middle\" x=\"50%\" y=\"16px\">OptionalQuestionMark</text></svg><svg width=\"100%\" x=\"0%\" y=\"48px\"><defs /><svg width=\"100%\" x=\"0\" y=\"0px\"><defs /><text text-anchor=\"middle\" x=\"50%\" y=\"16px\">?</text></svg></svg><line stroke=\"black\" x1=\"50%\" x2=\"50%\" y1=\"19.2px\" y2=\"48px\" /></svg><line stroke=\"black\" x1=\"50%\" x2=\"80.7018%\" y1=\"19.2px\" y2=\"48px\" /></svg><line stroke=\"black\" x1=\"50%\" x2=\"50%\" y1=\"19.2px\" y2=\"48px\" /></svg><line stroke=\"black\" x1=\"50%\" x2=\"50%\" y1=\"19.2px\" y2=\"48px\" /></svg>"
      ],
      "text/plain": [
       "Tree('S', [Tree('QG', [Tree('QG3', [Tree('ConcreteGenre', ['#GENRE#']), Tree('Is', ['-', 'это']), Tree('What', ['что', 'такой']), Tree('OptionalQuestionMark', ['?'])])])])"
      ]
     },
     "execution_count": 18,
     "metadata": {},
     "output_type": "execute_result"
    }
   ],
   "source": [
    "parse_sentense(\"драма - это что такое?\")"
   ]
  },
  {
   "cell_type": "code",
   "execution_count": 19,
   "metadata": {},
   "outputs": [
    {
     "name": "stdout",
     "output_type": "stream",
     "text": [
      "input: что из себя представляет жанр драма\n",
      "tokens: ['что', 'из', 'себя', 'представляет', 'жанр', 'драма']\n",
      "filtered tokens: ['что', 'представляет', 'жанр', 'драма']\n",
      "found genre: драма Drama 1.0\n",
      "replaced genres: [(3, 1.0, 'драма', 'Drama')]\n",
      "all stems: [['что'], ['представлять'], ['жанр'], ['#GENRE#']]\n",
      "selected stems: ['что', 'представлять', 'жанр', '#GENRE#']\n"
     ]
    },
    {
     "data": {
      "image/svg+xml": [
       "<svg baseProfile=\"full\" height=\"216px\" preserveAspectRatio=\"xMidYMid meet\" style=\"font-family: times, serif; font-weight: normal; font-style: normal; font-size: 16px;\" version=\"1.1\" viewBox=\"0,0,496.0,216.0\" width=\"496px\" xmlns=\"http://www.w3.org/2000/svg\" xmlns:ev=\"http://www.w3.org/2001/xml-events\" xmlns:xlink=\"http://www.w3.org/1999/xlink\"><defs /><svg width=\"100%\" x=\"0\" y=\"0px\"><defs /><text text-anchor=\"middle\" x=\"50%\" y=\"16px\">S</text></svg><svg width=\"100%\" x=\"0%\" y=\"48px\"><defs /><svg width=\"100%\" x=\"0\" y=\"0px\"><defs /><text text-anchor=\"middle\" x=\"50%\" y=\"16px\">QG</text></svg><svg width=\"100%\" x=\"0%\" y=\"48px\"><defs /><svg width=\"100%\" x=\"0\" y=\"0px\"><defs /><text text-anchor=\"middle\" x=\"50%\" y=\"16px\">QG3</text></svg><svg width=\"8.06452%\" x=\"0%\" y=\"48px\"><defs /><svg width=\"100%\" x=\"0\" y=\"0px\"><defs /><text text-anchor=\"middle\" x=\"50%\" y=\"16px\">что</text></svg></svg><line stroke=\"black\" x1=\"50%\" x2=\"4.03226%\" y1=\"19.2px\" y2=\"48px\" /><svg width=\"22.5806%\" x=\"8.06452%\" y=\"48px\"><defs /><svg width=\"100%\" x=\"0\" y=\"0px\"><defs /><text text-anchor=\"middle\" x=\"50%\" y=\"16px\">представлять</text></svg></svg><line stroke=\"black\" x1=\"50%\" x2=\"19.3548%\" y1=\"19.2px\" y2=\"48px\" /><svg width=\"9.67742%\" x=\"30.6452%\" y=\"48px\"><defs /><svg width=\"100%\" x=\"0\" y=\"0px\"><defs /><text text-anchor=\"middle\" x=\"50%\" y=\"16px\">жанр</text></svg></svg><line stroke=\"black\" x1=\"50%\" x2=\"35.4839%\" y1=\"19.2px\" y2=\"48px\" /><svg width=\"24.1935%\" x=\"40.3226%\" y=\"48px\"><defs /><svg width=\"100%\" x=\"0\" y=\"0px\"><defs /><text text-anchor=\"middle\" x=\"50%\" y=\"16px\">ConcreteGenre</text></svg><svg width=\"100%\" x=\"0%\" y=\"48px\"><defs /><svg width=\"100%\" x=\"0\" y=\"0px\"><defs /><text text-anchor=\"middle\" x=\"50%\" y=\"16px\">#GENRE#</text></svg></svg><line stroke=\"black\" x1=\"50%\" x2=\"50%\" y1=\"19.2px\" y2=\"48px\" /></svg><line stroke=\"black\" x1=\"50%\" x2=\"52.4194%\" y1=\"19.2px\" y2=\"48px\" /><svg width=\"35.4839%\" x=\"64.5161%\" y=\"48px\"><defs /><svg width=\"100%\" x=\"0\" y=\"0px\"><defs /><text text-anchor=\"middle\" x=\"50%\" y=\"16px\">OptionalQuestionMark</text></svg></svg><line stroke=\"black\" x1=\"50%\" x2=\"82.2581%\" y1=\"19.2px\" y2=\"48px\" /></svg><line stroke=\"black\" x1=\"50%\" x2=\"50%\" y1=\"19.2px\" y2=\"48px\" /></svg><line stroke=\"black\" x1=\"50%\" x2=\"50%\" y1=\"19.2px\" y2=\"48px\" /></svg>"
      ],
      "text/plain": [
       "Tree('S', [Tree('QG', [Tree('QG3', ['что', 'представлять', 'жанр', Tree('ConcreteGenre', ['#GENRE#']), Tree('OptionalQuestionMark', [])])])])"
      ]
     },
     "execution_count": 19,
     "metadata": {},
     "output_type": "execute_result"
    }
   ],
   "source": [
    "parse_sentense(\"что из себя представляет жанр драма\")"
   ]
  },
  {
   "cell_type": "code",
   "execution_count": 4,
   "metadata": {},
   "outputs": [
    {
     "name": "stdout",
     "output_type": "stream",
     "text": [
      "input: Что ты можешь рассказать про аниме Блич?\n",
      "tokens: ['Что', 'ты', 'можешь', 'рассказать', 'про', 'аниме', 'Блич', '?']\n",
      "filtered tokens: ['Что', 'можешь', 'рассказать', 'аниме', 'Блич', '?']\n",
      "replaced animes: [((4, 1), 'Блич', AnimeDTO(id=269, title=\"Bleach\"))]\n",
      "0.5666666666666667 School Что\n",
      "0.6000000000000001 Comedy можешь\n",
      "0  рассказать\n",
      "0.64 Drama аниме\n",
      "0.6 Seinen #ANIME#\n",
      "0.09999999999999998 Cars ?\n",
      "all stems: [['что'], ['мочь'], ['рассказать'], ['аниме'], ['#ANIME#'], ['?']]\n",
      "selected stems: ['что', 'мочь', 'рассказать', 'аниме', '#ANIME#', '?']\n"
     ]
    },
    {
     "data": {
      "image/svg+xml": [
       "<svg baseProfile=\"full\" height=\"264px\" preserveAspectRatio=\"xMidYMid meet\" style=\"font-family: times, serif; font-weight: normal; font-style: normal; font-size: 16px;\" version=\"1.1\" viewBox=\"0,0,592.0,264.0\" width=\"592px\" xmlns=\"http://www.w3.org/2000/svg\" xmlns:ev=\"http://www.w3.org/2001/xml-events\" xmlns:xlink=\"http://www.w3.org/1999/xlink\"><defs /><svg width=\"100%\" x=\"0\" y=\"0px\"><defs /><text text-anchor=\"middle\" x=\"50%\" y=\"16px\">S</text></svg><svg width=\"100%\" x=\"0%\" y=\"48px\"><defs /><svg width=\"100%\" x=\"0\" y=\"0px\"><defs /><text text-anchor=\"middle\" x=\"50%\" y=\"16px\">QG</text></svg><svg width=\"100%\" x=\"0%\" y=\"48px\"><defs /><svg width=\"100%\" x=\"0\" y=\"0px\"><defs /><text text-anchor=\"middle\" x=\"50%\" y=\"16px\">QG4</text></svg><svg width=\"8.10811%\" x=\"0%\" y=\"48px\"><defs /><svg width=\"100%\" x=\"0\" y=\"0px\"><defs /><text text-anchor=\"middle\" x=\"50%\" y=\"16px\">What</text></svg><svg width=\"100%\" x=\"0%\" y=\"48px\"><defs /><svg width=\"100%\" x=\"0\" y=\"0px\"><defs /><text text-anchor=\"middle\" x=\"50%\" y=\"16px\">что</text></svg></svg><line stroke=\"black\" x1=\"50%\" x2=\"50%\" y1=\"19.2px\" y2=\"48px\" /></svg><line stroke=\"black\" x1=\"50%\" x2=\"4.05405%\" y1=\"19.2px\" y2=\"48px\" /><svg width=\"24.3243%\" x=\"8.10811%\" y=\"48px\"><defs /><svg width=\"100%\" x=\"0\" y=\"0px\"><defs /><text text-anchor=\"middle\" x=\"50%\" y=\"16px\">CanTell</text></svg><svg width=\"33.3333%\" x=\"0%\" y=\"48px\"><defs /><svg width=\"100%\" x=\"0\" y=\"0px\"><defs /><text text-anchor=\"middle\" x=\"50%\" y=\"16px\">мочь</text></svg></svg><line stroke=\"black\" x1=\"50%\" x2=\"16.6667%\" y1=\"19.2px\" y2=\"48px\" /><svg width=\"66.6667%\" x=\"33.3333%\" y=\"48px\"><defs /><svg width=\"100%\" x=\"0\" y=\"0px\"><defs /><text text-anchor=\"middle\" x=\"50%\" y=\"16px\">рассказать</text></svg></svg><line stroke=\"black\" x1=\"50%\" x2=\"66.6667%\" y1=\"19.2px\" y2=\"48px\" /></svg><line stroke=\"black\" x1=\"50%\" x2=\"20.2703%\" y1=\"19.2px\" y2=\"48px\" /><svg width=\"9.45946%\" x=\"32.4324%\" y=\"48px\"><defs /><svg width=\"100%\" x=\"0\" y=\"0px\"><defs /><text text-anchor=\"middle\" x=\"50%\" y=\"16px\">About</text></svg></svg><line stroke=\"black\" x1=\"50%\" x2=\"37.1622%\" y1=\"19.2px\" y2=\"48px\" /><svg width=\"28.3784%\" x=\"41.8919%\" y=\"48px\"><defs /><svg width=\"100%\" x=\"0\" y=\"0px\"><defs /><text text-anchor=\"middle\" x=\"50%\" y=\"16px\">ConcreteAnime</text></svg><svg width=\"57.1429%\" x=\"0%\" y=\"48px\"><defs /><svg width=\"100%\" x=\"0\" y=\"0px\"><defs /><text text-anchor=\"middle\" x=\"50%\" y=\"16px\">AnimeNounS</text></svg><svg width=\"100%\" x=\"0%\" y=\"48px\"><defs /><svg width=\"100%\" x=\"0\" y=\"0px\"><defs /><text text-anchor=\"middle\" x=\"50%\" y=\"16px\">аниме</text></svg></svg><line stroke=\"black\" x1=\"50%\" x2=\"50%\" y1=\"19.2px\" y2=\"48px\" /></svg><line stroke=\"black\" x1=\"50%\" x2=\"28.5714%\" y1=\"19.2px\" y2=\"48px\" /><svg width=\"42.8571%\" x=\"57.1429%\" y=\"48px\"><defs /><svg width=\"100%\" x=\"0\" y=\"0px\"><defs /><text text-anchor=\"middle\" x=\"50%\" y=\"16px\">#ANIME#</text></svg></svg><line stroke=\"black\" x1=\"50%\" x2=\"78.5714%\" y1=\"19.2px\" y2=\"48px\" /></svg><line stroke=\"black\" x1=\"50%\" x2=\"56.0811%\" y1=\"19.2px\" y2=\"48px\" /><svg width=\"29.7297%\" x=\"70.2703%\" y=\"48px\"><defs /><svg width=\"100%\" x=\"0\" y=\"0px\"><defs /><text text-anchor=\"middle\" x=\"50%\" y=\"16px\">OptionalQuestionMark</text></svg><svg width=\"100%\" x=\"0%\" y=\"48px\"><defs /><svg width=\"100%\" x=\"0\" y=\"0px\"><defs /><text text-anchor=\"middle\" x=\"50%\" y=\"16px\">?</text></svg></svg><line stroke=\"black\" x1=\"50%\" x2=\"50%\" y1=\"19.2px\" y2=\"48px\" /></svg><line stroke=\"black\" x1=\"50%\" x2=\"85.1351%\" y1=\"19.2px\" y2=\"48px\" /></svg><line stroke=\"black\" x1=\"50%\" x2=\"50%\" y1=\"19.2px\" y2=\"48px\" /></svg><line stroke=\"black\" x1=\"50%\" x2=\"50%\" y1=\"19.2px\" y2=\"48px\" /></svg>"
      ],
      "text/plain": [
       "Tree('S', [Tree('QG', [Tree('QG4', [Tree('What', ['что']), Tree('CanTell', ['мочь', 'рассказать']), Tree('About', []), Tree('ConcreteAnime', [Tree('AnimeNounS', ['аниме']), '#ANIME#']), Tree('OptionalQuestionMark', ['?'])])])])"
      ]
     },
     "execution_count": 4,
     "metadata": {},
     "output_type": "execute_result"
    }
   ],
   "source": [
    "parse_sentense(\"Что ты можешь рассказать про аниме Блич?\")"
   ]
  },
  {
   "cell_type": "code",
   "execution_count": 3,
   "metadata": {},
   "outputs": [
    {
     "name": "stdout",
     "output_type": "stream",
     "text": [
      "input: мне нравятся боевики, драма и гонки\n",
      "tokens: ['мне', 'нравятся', 'боевики', ',', 'драма', 'и', 'гонки']\n",
      "filtered tokens: ['нравятся', 'боевики', ',', 'драма', 'гонки']\n",
      "0  нравятся\n",
      "0.8571428571428572 Martial Arts боевики\n",
      "found genre: боевики Martial Arts 0.8571428571428572\n",
      "0.09999999999999998 Cars ,\n",
      "1.0 Drama драма\n",
      "found genre: драма Drama 1.0\n",
      "1.0 Cars гонки\n",
      "found genre: гонки Cars 1.0\n",
      "replaced genres: [(1, 0.8571428571428572, 'боевики', 'Martial Arts'), (3, 1.0, 'драма', 'Drama'), (4, 1.0, 'гонки', 'Cars')]\n",
      "all stems: [['нравиться'], ['#GENRE#'], [','], ['#GENRE#'], ['#GENRE#']]\n",
      "selected stems: ['нравиться', '#GENRE#', ',', '#GENRE#', '#GENRE#']\n"
     ]
    },
    {
     "data": {
      "image/svg+xml": [
       "<svg baseProfile=\"full\" height=\"360px\" preserveAspectRatio=\"xMidYMid meet\" style=\"font-family: times, serif; font-weight: normal; font-style: normal; font-size: 16px;\" version=\"1.1\" viewBox=\"0,0,480.0,360.0\" width=\"480px\" xmlns=\"http://www.w3.org/2000/svg\" xmlns:ev=\"http://www.w3.org/2001/xml-events\" xmlns:xlink=\"http://www.w3.org/1999/xlink\"><defs /><svg width=\"100%\" x=\"0\" y=\"0px\"><defs /><text text-anchor=\"middle\" x=\"50%\" y=\"16px\">S</text></svg><svg width=\"100%\" x=\"0%\" y=\"48px\"><defs /><svg width=\"100%\" x=\"0\" y=\"0px\"><defs /><text text-anchor=\"middle\" x=\"50%\" y=\"16px\">PR</text></svg><svg width=\"100%\" x=\"0%\" y=\"48px\"><defs /><svg width=\"100%\" x=\"0\" y=\"0px\"><defs /><text text-anchor=\"middle\" x=\"50%\" y=\"16px\">PR1</text></svg><svg width=\"18.3333%\" x=\"0%\" y=\"48px\"><defs /><svg width=\"100%\" x=\"0\" y=\"0px\"><defs /><text text-anchor=\"middle\" x=\"50%\" y=\"16px\">ILike</text></svg><svg width=\"100%\" x=\"0%\" y=\"48px\"><defs /><svg width=\"100%\" x=\"0\" y=\"0px\"><defs /><text text-anchor=\"middle\" x=\"50%\" y=\"16px\">Like</text></svg><svg width=\"100%\" x=\"0%\" y=\"48px\"><defs /><svg width=\"100%\" x=\"0\" y=\"0px\"><defs /><text text-anchor=\"middle\" x=\"50%\" y=\"16px\">нравиться</text></svg></svg><line stroke=\"black\" x1=\"50%\" x2=\"50%\" y1=\"19.2px\" y2=\"48px\" /></svg><line stroke=\"black\" x1=\"50%\" x2=\"50%\" y1=\"19.2px\" y2=\"48px\" /></svg><line stroke=\"black\" x1=\"50%\" x2=\"9.16667%\" y1=\"19.2px\" y2=\"48px\" /><svg width=\"81.6667%\" x=\"18.3333%\" y=\"48px\"><defs /><svg width=\"100%\" x=\"0\" y=\"0px\"><defs /><text text-anchor=\"middle\" x=\"50%\" y=\"16px\">ConcreteGenreP</text></svg><svg width=\"30.6122%\" x=\"0%\" y=\"48px\"><defs /><svg width=\"100%\" x=\"0\" y=\"0px\"><defs /><text text-anchor=\"middle\" x=\"50%\" y=\"16px\">ConcreteGenre</text></svg><svg width=\"100%\" x=\"0%\" y=\"48px\"><defs /><svg width=\"100%\" x=\"0\" y=\"0px\"><defs /><text text-anchor=\"middle\" x=\"50%\" y=\"16px\">#GENRE#</text></svg></svg><line stroke=\"black\" x1=\"50%\" x2=\"50%\" y1=\"19.2px\" y2=\"48px\" /></svg><line stroke=\"black\" x1=\"50%\" x2=\"15.3061%\" y1=\"19.2px\" y2=\"48px\" /><svg width=\"6.12245%\" x=\"30.6122%\" y=\"48px\"><defs /><svg width=\"100%\" x=\"0\" y=\"0px\"><defs /><text text-anchor=\"middle\" x=\"50%\" y=\"16px\">,</text></svg></svg><line stroke=\"black\" x1=\"50%\" x2=\"33.6735%\" y1=\"19.2px\" y2=\"48px\" /><svg width=\"63.2653%\" x=\"36.7347%\" y=\"48px\"><defs /><svg width=\"100%\" x=\"0\" y=\"0px\"><defs /><text text-anchor=\"middle\" x=\"50%\" y=\"16px\">ConcreteGenreP</text></svg><svg width=\"48.3871%\" x=\"0%\" y=\"48px\"><defs /><svg width=\"100%\" x=\"0\" y=\"0px\"><defs /><text text-anchor=\"middle\" x=\"50%\" y=\"16px\">ConcreteGenre</text></svg><svg width=\"100%\" x=\"0%\" y=\"48px\"><defs /><svg width=\"100%\" x=\"0\" y=\"0px\"><defs /><text text-anchor=\"middle\" x=\"50%\" y=\"16px\">#GENRE#</text></svg></svg><line stroke=\"black\" x1=\"50%\" x2=\"50%\" y1=\"19.2px\" y2=\"48px\" /></svg><line stroke=\"black\" x1=\"50%\" x2=\"24.1935%\" y1=\"19.2px\" y2=\"48px\" /><svg width=\"51.6129%\" x=\"48.3871%\" y=\"48px\"><defs /><svg width=\"100%\" x=\"0\" y=\"0px\"><defs /><text text-anchor=\"middle\" x=\"50%\" y=\"16px\">ConcreteGenreP</text></svg><svg width=\"100%\" x=\"0%\" y=\"48px\"><defs /><svg width=\"100%\" x=\"0\" y=\"0px\"><defs /><text text-anchor=\"middle\" x=\"50%\" y=\"16px\">ConcreteGenre</text></svg><svg width=\"100%\" x=\"0%\" y=\"48px\"><defs /><svg width=\"100%\" x=\"0\" y=\"0px\"><defs /><text text-anchor=\"middle\" x=\"50%\" y=\"16px\">#GENRE#</text></svg></svg><line stroke=\"black\" x1=\"50%\" x2=\"50%\" y1=\"19.2px\" y2=\"48px\" /></svg><line stroke=\"black\" x1=\"50%\" x2=\"50%\" y1=\"19.2px\" y2=\"48px\" /></svg><line stroke=\"black\" x1=\"50%\" x2=\"74.1935%\" y1=\"19.2px\" y2=\"48px\" /></svg><line stroke=\"black\" x1=\"50%\" x2=\"68.3673%\" y1=\"19.2px\" y2=\"48px\" /></svg><line stroke=\"black\" x1=\"50%\" x2=\"59.1667%\" y1=\"19.2px\" y2=\"48px\" /></svg><line stroke=\"black\" x1=\"50%\" x2=\"50%\" y1=\"19.2px\" y2=\"48px\" /></svg><line stroke=\"black\" x1=\"50%\" x2=\"50%\" y1=\"19.2px\" y2=\"48px\" /></svg>"
      ],
      "text/plain": [
       "Tree('S', [Tree('PR', [Tree('PR1', [Tree('ILike', [Tree('Like', ['нравиться'])]), Tree('ConcreteGenreP', [Tree('ConcreteGenre', ['#GENRE#']), ',', Tree('ConcreteGenreP', [Tree('ConcreteGenre', ['#GENRE#']), Tree('ConcreteGenreP', [Tree('ConcreteGenre', ['#GENRE#'])])])])])])])"
      ]
     },
     "execution_count": 3,
     "metadata": {},
     "output_type": "execute_result"
    }
   ],
   "source": [
    "parse_sentense(\"мне нравятся боевики, драма и гонки\")"
   ]
  }
 ],
 "metadata": {
  "kernelspec": {
   "display_name": ".venv",
   "language": "python",
   "name": "python3"
  },
  "language_info": {
   "codemirror_mode": {
    "name": "ipython",
    "version": 3
   },
   "file_extension": ".py",
   "mimetype": "text/x-python",
   "name": "python",
   "nbconvert_exporter": "python",
   "pygments_lexer": "ipython3",
   "version": "3.10.13"
  }
 },
 "nbformat": 4,
 "nbformat_minor": 2
}
